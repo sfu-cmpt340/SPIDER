{
 "cells": [
  {
   "cell_type": "markdown",
   "metadata": {},
   "source": [
    "# Imports"
   ]
  },
  {
   "cell_type": "code",
   "execution_count": null,
   "metadata": {},
   "outputs": [],
   "source": [
    "import pandas as pd\n",
    "import numpy as np\n",
    "pd.options.mode.chained_assignment = None\n",
    "\n",
    "from sklearn.model_selection import train_test_split\n",
    "from sklearn.tree import DecisionTreeClassifier\n",
    "from sklearn.naive_bayes import GaussianNB\n",
    "from sklearn.ensemble import RandomForestClassifier\n",
    "from sklearn.ensemble import GradientBoostingClassifier\n",
    "from sklearn.neighbors import KNeighborsClassifier\n",
    "from sklearn.model_selection import cross_val_score\n",
    "\n",
    "from sklearn.datasets import load_iris\n",
    "from sklearn.feature_selection import SelectKBest\n",
    "from sklearn.feature_selection import f_classif\n",
    "\n",
    "from sklearn.metrics import accuracy_score\n",
    "from sklearn.metrics import confusion_matrix \n",
    "from sklearn.metrics import ConfusionMatrixDisplay\n",
    "from sklearn.metrics import balanced_accuracy_score\n",
    "from sklearn.metrics import f1_score\n",
    "from sklearn.metrics import precision_score\n",
    "from sklearn.metrics import recall_score\n",
    "\n",
    "from sklearn.inspection import permutation_importance\n",
    "\n",
    "import seaborn as sns\n",
    "import matplotlib.pyplot as plt\n",
    "import scipy.stats as stats\n",
    "\n",
    "from sklearn.metrics import classification_report"
   ]
  },
  {
   "cell_type": "markdown",
   "metadata": {},
   "source": [
    "# Load Dataset"
   ]
  },
  {
   "cell_type": "code",
   "execution_count": null,
   "metadata": {},
   "outputs": [],
   "source": [
    "pd.set_option('display.max_columns', None)\n",
    "df = pd.read_csv('fetal_health.csv');"
   ]
  },
  {
   "cell_type": "code",
   "execution_count": null,
   "metadata": {},
   "outputs": [],
   "source": [
    "df = df[['baseline value', 'accelerations', 'fetal_movement', 'uterine_contractions', 'light_decelerations',\\\n",
    "        'severe_decelerations', 'prolongued_decelerations', 'abnormal_short_term_variability',\\\n",
    "        'mean_value_of_short_term_variability', 'percentage_of_time_with_abnormal_long_term_variability',\\\n",
    "        'mean_value_of_long_term_variability', 'fetal_health']]"
   ]
  },
  {
   "cell_type": "code",
   "execution_count": null,
   "metadata": {},
   "outputs": [],
   "source": [
    "X = df.iloc[:, :-1]\n",
    "y = df.iloc[:, -1]"
   ]
  },
  {
   "cell_type": "code",
   "execution_count": null,
   "metadata": {},
   "outputs": [],
   "source": [
    "normal_count = (df['fetal_health'] == 1).sum()\n",
    "suspect_count = (df['fetal_health'] == 2).sum()\n",
    "pathological_count = (df['fetal_health'] == 3).sum()\n",
    "print(\"Normal Count: \", normal_count, \" Suspec Count: \", suspect_count, \" Pathological Count: \", pathological_count)"
   ]
  },
  {
   "cell_type": "markdown",
   "metadata": {},
   "source": [
    "# Functions"
   ]
  },
  {
   "cell_type": "code",
   "execution_count": null,
   "metadata": {},
   "outputs": [],
   "source": [
    "def PrintResults(X, y, model):\n",
    "    X_train, X_test, y_train, y_test = train_test_split(X, y)\n",
    "    model.fit(X_train, y_train)\n",
    "    y_pred = model.predict(X_test)\n",
    "\n",
    "    print(classification_report(y_test, y_pred))\n",
    "    print(\"Balanced Accuracy: \", balanced_accuracy_score(y_test, y_pred))\n",
    "\n",
    "    cm = confusion_matrix(y_test, y_pred, labels=[1,2,3])\n",
    "    ConfusionMatrixDisplay(cm).plot()\n",
    "    "
   ]
  },
  {
   "cell_type": "code",
   "execution_count": null,
   "metadata": {},
   "outputs": [],
   "source": [
    "def ShowFeatureImportance(X, y, model):\n",
    "    X_train, X_test, y_train, y_test = train_test_split(X, y)\n",
    "    model = model.fit(X_train, y_train)\n",
    "\n",
    "    hist_dt = pd.DataFrame({'Feature': X.columns, 'Feature importance': model.feature_importances_})\n",
    "    hist_dt = hist_dt.sort_values(by='Feature importance',ascending=False)\n",
    "    fig, axes = plt.subplots(figsize=(20, 10))\n",
    "    sns.barplot(x=\"Feature\", y=\"Feature importance\", data=hist_dt, ax=axes)\n",
    "    axes.set_title(\"Feature Importance\", fontsize=16)\n",
    "    axes.set_xlabel(\"Feature\", fontsize=14)\n",
    "    axes.set_ylabel(\"Feature Importance\", fontsize=14)\n",
    "    axes.tick_params(axis=\"x\", labelrotation=45, labelsize=12)\n",
    "    plt.tight_layout()\n",
    "    plt.show()"
   ]
  },
  {
   "cell_type": "code",
   "execution_count": null,
   "metadata": {},
   "outputs": [],
   "source": [
    "selector = SelectKBest(score_func=f_classif, k=8)\n",
    "selector.fit_transform(X, y)\n",
    "\n",
    "cols_idxs = selector.get_support(indices=True)\n",
    "X = df.iloc[:,cols_idxs]"
   ]
  },
  {
   "cell_type": "markdown",
   "metadata": {},
   "source": [
    "# DecisionTreeClassifier"
   ]
  },
  {
   "cell_type": "code",
   "execution_count": null,
   "metadata": {},
   "outputs": [],
   "source": [
    "model_dt = DecisionTreeClassifier()\n",
    "PrintResults(X, y, model_dt)"
   ]
  },
  {
   "cell_type": "code",
   "execution_count": null,
   "metadata": {},
   "outputs": [],
   "source": [
    "ShowFeatureImportance(X, y, model_dt)"
   ]
  },
  {
   "cell_type": "markdown",
   "metadata": {},
   "source": [
    "# Naive Bayes"
   ]
  },
  {
   "cell_type": "code",
   "execution_count": null,
   "metadata": {},
   "outputs": [],
   "source": [
    "model_nb = GaussianNB()\n",
    "PrintResults(X, y, model_nb)"
   ]
  },
  {
   "cell_type": "code",
   "execution_count": null,
   "metadata": {},
   "outputs": [],
   "source": [
    "X_train, X_test, y_train, y_test = train_test_split(X, y)\n",
    "model_nb = model_nb.fit(X_train, y_train)\n",
    "\n",
    "imps_gb = permutation_importance(model_nb, X_train, y_train)\n",
    "fig, axes = plt.subplots(figsize=(20, 10))\n",
    "\n",
    "hist_bay = pd.DataFrame({'Feature': X.columns, 'Feature importance': imps_gb.importances_mean})\n",
    "hist_bay = hist_bay.sort_values(by='Feature importance',ascending=False)\n",
    "sns.barplot(x=\"Feature\", y=\"Feature importance\", data=hist_bay, ax=axes)\n",
    "axes.set_title(\"Gaussian Naive Bayes Feature Importance\", fontsize=16)\n",
    "axes.set_xlabel(\"Feature\", fontsize=14)\n",
    "axes.set_ylabel(\"Feature Importance\", fontsize=14)\n",
    "axes.tick_params(axis=\"x\", labelrotation=45, labelsize=12)\n",
    "\n",
    "plt.tight_layout()\n",
    "plt.show()"
   ]
  },
  {
   "cell_type": "markdown",
   "metadata": {},
   "source": [
    "# RandomForestClassifier"
   ]
  },
  {
   "cell_type": "code",
   "execution_count": null,
   "metadata": {},
   "outputs": [],
   "source": [
    "model_rf = RandomForestClassifier(n_estimators=200)\n",
    "PrintResults(X, y, model_rf)"
   ]
  },
  {
   "cell_type": "code",
   "execution_count": null,
   "metadata": {},
   "outputs": [],
   "source": [
    "ShowFeatureImportance(X, y, model_rf)"
   ]
  },
  {
   "cell_type": "markdown",
   "metadata": {},
   "source": [
    "# GradientBoostingClassifier"
   ]
  },
  {
   "cell_type": "code",
   "execution_count": null,
   "metadata": {},
   "outputs": [],
   "source": [
    "model_gb = GradientBoostingClassifier()\n",
    "PrintResults(X, y, model_gb)"
   ]
  },
  {
   "cell_type": "code",
   "execution_count": null,
   "metadata": {},
   "outputs": [],
   "source": [
    "ShowFeatureImportance(X, y, model_gb)"
   ]
  },
  {
   "cell_type": "markdown",
   "metadata": {},
   "source": [
    "# KNN"
   ]
  },
  {
   "cell_type": "code",
   "execution_count": null,
   "metadata": {},
   "outputs": [],
   "source": [
    "k_values = np.arange(1, 100)\n",
    "accuracies = []\n",
    "\n",
    "for k in k_values:\n",
    "    model_knn = KNeighborsClassifier(n_neighbors=k)\n",
    "    X_train, X_test, y_train, y_test = train_test_split(X, y)\n",
    "    model_knn.fit(X_train, y_train)\n",
    "    y_pred = model_knn.predict(X_test)\n",
    "    accuracies.append(balanced_accuracy_score(y_test, y_pred))\n",
    "\n",
    "fig = plt.figure()\n",
    "plt.plot(k_values, accuracies)\n",
    "plt.xlabel('k')\n",
    "plt.ylabel('Balanced Accuracy')\n",
    "plt.title('Balanced Accuracy by k')\n",
    "plt.show()"
   ]
  },
  {
   "cell_type": "code",
   "execution_count": null,
   "metadata": {
    "scrolled": true
   },
   "outputs": [],
   "source": [
    "best_k = k_values[np.argmax(accuracies)]\n",
    "model_knn = KNeighborsClassifier(best_k)\n",
    "PrintResults(X, y, model_knn)"
   ]
  },
  {
   "cell_type": "code",
   "execution_count": null,
   "metadata": {},
   "outputs": [],
   "source": []
  }
 ],
 "metadata": {
  "kernelspec": {
   "display_name": "Python 3 (ipykernel)",
   "language": "python",
   "name": "python3"
  },
  "language_info": {
   "codemirror_mode": {
    "name": "ipython",
    "version": 3
   },
   "file_extension": ".py",
   "mimetype": "text/x-python",
   "name": "python",
   "nbconvert_exporter": "python",
   "pygments_lexer": "ipython3",
   "version": "3.11.4"
  }
 },
 "nbformat": 4,
 "nbformat_minor": 2
}
