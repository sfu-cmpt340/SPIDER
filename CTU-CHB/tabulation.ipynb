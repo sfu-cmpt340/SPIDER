import numpy as np
import matplotlib.pyplot as plt
!wget -O 1001.dat https://github.com/sfu-cmpt340/fetal-health-classification/blob/main/CTU-CHB/dat/1001.dat


file_path = '1001.dat'

waveform_data = np.fromfile(file_path, dtype=np.float64)

# Remove zeros from the waveform
non_zero_waveform = waveform_data[waveform_data != 0]

# Take the logarithm of the non-zero values
log_waveform = np.log(non_zero_waveform)

# Calculate the number of samples corresponding to one minute
Fs = 1000  # Sampling frequency (adjust this according to your data)
duration_seconds = 1  # One minute
num_samples_one_minute = int(Fs * duration_seconds)

# Plot the first one minute of waveform data
plt.plot(log_waveform[:num_samples_one_minute])
plt.xlabel('Sample Index')
plt.ylabel('Amplitude')
plt.title('First One Minute of Waveform Data')
plt.grid(True)
plt.show()
