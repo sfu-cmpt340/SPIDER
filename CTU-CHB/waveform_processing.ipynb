{
 "cells": [
  {
   "cell_type": "code",
   "execution_count": 1,
   "id": "5aa1e3fe-9385-4e42-83c3-ad0174806d3b",
   "metadata": {},
   "outputs": [
    {
     "name": "stdout",
     "output_type": "stream",
     "text": [
      "Requirement already satisfied: wfdb in /opt/anaconda3/lib/python3.11/site-packages (4.1.2)\n",
      "Requirement already satisfied: SoundFile>=0.10.0 in /opt/anaconda3/lib/python3.11/site-packages (from wfdb) (0.12.1)\n",
      "Requirement already satisfied: matplotlib>=3.2.2 in /opt/anaconda3/lib/python3.11/site-packages (from wfdb) (3.8.0)\n",
      "Requirement already satisfied: numpy>=1.10.1 in /opt/anaconda3/lib/python3.11/site-packages (from wfdb) (1.26.4)\n",
      "Requirement already satisfied: pandas>=1.3.0 in /opt/anaconda3/lib/python3.11/site-packages (from wfdb) (2.1.4)\n",
      "Requirement already satisfied: requests>=2.8.1 in /opt/anaconda3/lib/python3.11/site-packages (from wfdb) (2.31.0)\n",
      "Requirement already satisfied: scipy>=1.0.0 in /opt/anaconda3/lib/python3.11/site-packages (from wfdb) (1.11.4)\n",
      "Requirement already satisfied: contourpy>=1.0.1 in /opt/anaconda3/lib/python3.11/site-packages (from matplotlib>=3.2.2->wfdb) (1.2.0)\n",
      "Requirement already satisfied: cycler>=0.10 in /opt/anaconda3/lib/python3.11/site-packages (from matplotlib>=3.2.2->wfdb) (0.11.0)\n",
      "Requirement already satisfied: fonttools>=4.22.0 in /opt/anaconda3/lib/python3.11/site-packages (from matplotlib>=3.2.2->wfdb) (4.25.0)\n",
      "Requirement already satisfied: kiwisolver>=1.0.1 in /opt/anaconda3/lib/python3.11/site-packages (from matplotlib>=3.2.2->wfdb) (1.4.4)\n",
      "Requirement already satisfied: packaging>=20.0 in /opt/anaconda3/lib/python3.11/site-packages (from matplotlib>=3.2.2->wfdb) (23.1)\n",
      "Requirement already satisfied: pillow>=6.2.0 in /opt/anaconda3/lib/python3.11/site-packages (from matplotlib>=3.2.2->wfdb) (10.2.0)\n",
      "Requirement already satisfied: pyparsing>=2.3.1 in /opt/anaconda3/lib/python3.11/site-packages (from matplotlib>=3.2.2->wfdb) (3.0.9)\n",
      "Requirement already satisfied: python-dateutil>=2.7 in /opt/anaconda3/lib/python3.11/site-packages (from matplotlib>=3.2.2->wfdb) (2.8.2)\n",
      "Requirement already satisfied: pytz>=2020.1 in /opt/anaconda3/lib/python3.11/site-packages (from pandas>=1.3.0->wfdb) (2023.3.post1)\n",
      "Requirement already satisfied: tzdata>=2022.1 in /opt/anaconda3/lib/python3.11/site-packages (from pandas>=1.3.0->wfdb) (2023.3)\n",
      "Requirement already satisfied: charset-normalizer<4,>=2 in /opt/anaconda3/lib/python3.11/site-packages (from requests>=2.8.1->wfdb) (2.0.4)\n",
      "Requirement already satisfied: idna<4,>=2.5 in /opt/anaconda3/lib/python3.11/site-packages (from requests>=2.8.1->wfdb) (3.4)\n",
      "Requirement already satisfied: urllib3<3,>=1.21.1 in /opt/anaconda3/lib/python3.11/site-packages (from requests>=2.8.1->wfdb) (2.0.7)\n",
      "Requirement already satisfied: certifi>=2017.4.17 in /opt/anaconda3/lib/python3.11/site-packages (from requests>=2.8.1->wfdb) (2024.2.2)\n",
      "Requirement already satisfied: cffi>=1.0 in /opt/anaconda3/lib/python3.11/site-packages (from SoundFile>=0.10.0->wfdb) (1.16.0)\n",
      "Requirement already satisfied: pycparser in /opt/anaconda3/lib/python3.11/site-packages (from cffi>=1.0->SoundFile>=0.10.0->wfdb) (2.21)\n",
      "Requirement already satisfied: six>=1.5 in /opt/anaconda3/lib/python3.11/site-packages (from python-dateutil>=2.7->matplotlib>=3.2.2->wfdb) (1.16.0)\n"
     ]
    },
    {
     "ename": "FileNotFoundError",
     "evalue": "[Errno 2] No such file or directory: '/Users/angelinasisixia1/Desktop/School/CTUCHB/fetal-health-classification/CTU-CHB/ctu-chb/1002.hea'",
     "output_type": "error",
     "traceback": [
      "\u001b[0;31m---------------------------------------------------------------------------\u001b[0m",
      "\u001b[0;31mFileNotFoundError\u001b[0m                         Traceback (most recent call last)",
      "Cell \u001b[0;32mIn[1], line 13\u001b[0m\n\u001b[1;32m      8\u001b[0m \u001b[38;5;28;01mfrom\u001b[39;00m \u001b[38;5;21;01msimple_denoise\u001b[39;00m \u001b[38;5;28;01mimport\u001b[39;00m get_valid_segments\n\u001b[1;32m     11\u001b[0m FILEPATH \u001b[38;5;241m=\u001b[39m \u001b[38;5;124m'\u001b[39m\u001b[38;5;124mctu-chb/1002\u001b[39m\u001b[38;5;124m'\u001b[39m\n\u001b[0;32m---> 13\u001b[0m signals, fields \u001b[38;5;241m=\u001b[39m wfdb\u001b[38;5;241m.\u001b[39mrdsamp(FILEPATH)\n\u001b[1;32m     15\u001b[0m \u001b[38;5;28mprint\u001b[39m(\u001b[38;5;124m'\u001b[39m\u001b[38;5;124mnSamples: \u001b[39m\u001b[38;5;132;01m{}\u001b[39;00m\u001b[38;5;124m'\u001b[39m\u001b[38;5;241m.\u001b[39mformat(signals\u001b[38;5;241m.\u001b[39mshape))\n\u001b[1;32m     17\u001b[0m \u001b[38;5;66;03m# transpose the matrix as originally it was vertical\u001b[39;00m\n",
      "File \u001b[0;32m/opt/anaconda3/lib/python3.11/site-packages/wfdb/io/record.py:2317\u001b[0m, in \u001b[0;36mrdsamp\u001b[0;34m(record_name, sampfrom, sampto, channels, pn_dir, channel_names, warn_empty, return_res)\u001b[0m\n\u001b[1;32m   2312\u001b[0m     dir_list \u001b[38;5;241m=\u001b[39m pn_dir\u001b[38;5;241m.\u001b[39msplit(\u001b[38;5;124m\"\u001b[39m\u001b[38;5;124m/\u001b[39m\u001b[38;5;124m\"\u001b[39m)\n\u001b[1;32m   2313\u001b[0m     pn_dir \u001b[38;5;241m=\u001b[39m posixpath\u001b[38;5;241m.\u001b[39mjoin(\n\u001b[1;32m   2314\u001b[0m         dir_list[\u001b[38;5;241m0\u001b[39m], download\u001b[38;5;241m.\u001b[39mget_version(dir_list[\u001b[38;5;241m0\u001b[39m]), \u001b[38;5;241m*\u001b[39mdir_list[\u001b[38;5;241m1\u001b[39m:]\n\u001b[1;32m   2315\u001b[0m     )\n\u001b[0;32m-> 2317\u001b[0m record \u001b[38;5;241m=\u001b[39m rdrecord(\n\u001b[1;32m   2318\u001b[0m     record_name\u001b[38;5;241m=\u001b[39mrecord_name,\n\u001b[1;32m   2319\u001b[0m     sampfrom\u001b[38;5;241m=\u001b[39msampfrom,\n\u001b[1;32m   2320\u001b[0m     sampto\u001b[38;5;241m=\u001b[39msampto,\n\u001b[1;32m   2321\u001b[0m     channels\u001b[38;5;241m=\u001b[39mchannels,\n\u001b[1;32m   2322\u001b[0m     physical\u001b[38;5;241m=\u001b[39m\u001b[38;5;28;01mTrue\u001b[39;00m,\n\u001b[1;32m   2323\u001b[0m     pn_dir\u001b[38;5;241m=\u001b[39mpn_dir,\n\u001b[1;32m   2324\u001b[0m     m2s\u001b[38;5;241m=\u001b[39m\u001b[38;5;28;01mTrue\u001b[39;00m,\n\u001b[1;32m   2325\u001b[0m     return_res\u001b[38;5;241m=\u001b[39mreturn_res,\n\u001b[1;32m   2326\u001b[0m     channel_names\u001b[38;5;241m=\u001b[39mchannel_names,\n\u001b[1;32m   2327\u001b[0m     warn_empty\u001b[38;5;241m=\u001b[39mwarn_empty,\n\u001b[1;32m   2328\u001b[0m )\n\u001b[1;32m   2330\u001b[0m signals \u001b[38;5;241m=\u001b[39m record\u001b[38;5;241m.\u001b[39mp_signal\n\u001b[1;32m   2331\u001b[0m fields \u001b[38;5;241m=\u001b[39m {}\n",
      "File \u001b[0;32m/opt/anaconda3/lib/python3.11/site-packages/wfdb/io/record.py:2029\u001b[0m, in \u001b[0;36mrdrecord\u001b[0;34m(record_name, sampfrom, sampto, channels, physical, pn_dir, m2s, smooth_frames, ignore_skew, return_res, force_channels, channel_names, warn_empty)\u001b[0m\n\u001b[1;32m   2024\u001b[0m     dir_list \u001b[38;5;241m=\u001b[39m pn_dir\u001b[38;5;241m.\u001b[39msplit(\u001b[38;5;124m\"\u001b[39m\u001b[38;5;124m/\u001b[39m\u001b[38;5;124m\"\u001b[39m)\n\u001b[1;32m   2025\u001b[0m     pn_dir \u001b[38;5;241m=\u001b[39m posixpath\u001b[38;5;241m.\u001b[39mjoin(\n\u001b[1;32m   2026\u001b[0m         dir_list[\u001b[38;5;241m0\u001b[39m], download\u001b[38;5;241m.\u001b[39mget_version(dir_list[\u001b[38;5;241m0\u001b[39m]), \u001b[38;5;241m*\u001b[39mdir_list[\u001b[38;5;241m1\u001b[39m:]\n\u001b[1;32m   2027\u001b[0m     )\n\u001b[0;32m-> 2029\u001b[0m record \u001b[38;5;241m=\u001b[39m rdheader(record_name, pn_dir\u001b[38;5;241m=\u001b[39mpn_dir, rd_segments\u001b[38;5;241m=\u001b[39m\u001b[38;5;28;01mFalse\u001b[39;00m)\n\u001b[1;32m   2031\u001b[0m \u001b[38;5;66;03m# Set defaults for sampto and channels input variables\u001b[39;00m\n\u001b[1;32m   2032\u001b[0m \u001b[38;5;28;01mif\u001b[39;00m sampto \u001b[38;5;129;01mis\u001b[39;00m \u001b[38;5;28;01mNone\u001b[39;00m:\n\u001b[1;32m   2033\u001b[0m     \u001b[38;5;66;03m# If the header does not contain the signal length, figure it\u001b[39;00m\n\u001b[1;32m   2034\u001b[0m     \u001b[38;5;66;03m# out from the first dat file. This is only possible for single\u001b[39;00m\n\u001b[1;32m   2035\u001b[0m     \u001b[38;5;66;03m# segment records. If there are no signals, sig_len is 0.\u001b[39;00m\n",
      "File \u001b[0;32m/opt/anaconda3/lib/python3.11/site-packages/wfdb/io/record.py:1839\u001b[0m, in \u001b[0;36mrdheader\u001b[0;34m(record_name, pn_dir, rd_segments)\u001b[0m\n\u001b[1;32m   1837\u001b[0m file_name \u001b[38;5;241m=\u001b[39m \u001b[38;5;124mf\u001b[39m\u001b[38;5;124m\"\u001b[39m\u001b[38;5;132;01m{\u001b[39;00mbase_record_name\u001b[38;5;132;01m}\u001b[39;00m\u001b[38;5;124m.hea\u001b[39m\u001b[38;5;124m\"\u001b[39m\n\u001b[1;32m   1838\u001b[0m \u001b[38;5;28;01mif\u001b[39;00m pn_dir \u001b[38;5;129;01mis\u001b[39;00m \u001b[38;5;28;01mNone\u001b[39;00m:\n\u001b[0;32m-> 1839\u001b[0m     \u001b[38;5;28;01mwith\u001b[39;00m \u001b[38;5;28mopen\u001b[39m(\n\u001b[1;32m   1840\u001b[0m         os\u001b[38;5;241m.\u001b[39mpath\u001b[38;5;241m.\u001b[39mjoin(dir_name, file_name),\n\u001b[1;32m   1841\u001b[0m         \u001b[38;5;124m\"\u001b[39m\u001b[38;5;124mr\u001b[39m\u001b[38;5;124m\"\u001b[39m,\n\u001b[1;32m   1842\u001b[0m         encoding\u001b[38;5;241m=\u001b[39m\u001b[38;5;124m\"\u001b[39m\u001b[38;5;124mascii\u001b[39m\u001b[38;5;124m\"\u001b[39m,\n\u001b[1;32m   1843\u001b[0m         errors\u001b[38;5;241m=\u001b[39m\u001b[38;5;124m\"\u001b[39m\u001b[38;5;124mignore\u001b[39m\u001b[38;5;124m\"\u001b[39m,\n\u001b[1;32m   1844\u001b[0m     ) \u001b[38;5;28;01mas\u001b[39;00m f:\n\u001b[1;32m   1845\u001b[0m         header_content \u001b[38;5;241m=\u001b[39m f\u001b[38;5;241m.\u001b[39mread()\n\u001b[1;32m   1846\u001b[0m \u001b[38;5;28;01melse\u001b[39;00m:\n",
      "\u001b[0;31mFileNotFoundError\u001b[0m: [Errno 2] No such file or directory: '/Users/angelinasisixia1/Desktop/School/CTUCHB/fetal-health-classification/CTU-CHB/ctu-chb/1002.hea'"
     ]
    }
   ],
   "source": [
    "import numpy as np\n",
    "import pandas as pd\n",
    "import matplotlib.pyplot as plt\n",
    "!pip install wfdb\n",
    "import wfdb\n",
    "\n",
    "import simple_denoise\n",
    "from simple_denoise import get_valid_segments\n",
    "\n",
    "\n",
    "FILEPATH = 'dat/1002'\n",
    "\n",
    "signals, fields = wfdb.rdsamp(FILEPATH)\n",
    "\n",
    "print('nSamples: {}'.format(signals.shape))\n",
    "\n",
    "# transpose the matrix as originally it was vertical\n",
    "signals = np.transpose(signals)\n",
    "\n",
    "print(signals[0])\n",
    "\n",
    "fetal_hr = signals[0]\n",
    "\n",
    "# Calculate the number of samples corresponding to one minute\n",
    "Fs = 1000  # Sampling frequency (adjust this according to your data)\n",
    "duration_seconds = 60  # One minute\n",
    "num_samples_one_minute = int(Fs * duration_seconds)\n",
    "ts = np.arange(len(fetal_hr))/4.0\n",
    "\n",
    "# Plot the first one minute of waveform data\n",
    "plt.plot(fetal_hr[:num_samples_one_minute])\n",
    "plt.xlabel('Sample Index')\n",
    "plt.ylabel('Amplitude')\n",
    "plt.title('Whole record of waveform data')\n",
    "plt.grid(True)\n",
    "plt.show()\n",
    "\n",
    "selected_segments = get_valid_segments(fetal_hr, ts, 1002, verbose=True,\n",
    "                                           #max_change=15, verbose_details=True\n",
    "                                          )\n"
   ]
  },
  {
   "cell_type": "code",
   "execution_count": null,
   "id": "1eb90f39-b5e1-4b80-afa1-ed1277346c8a",
   "metadata": {},
   "outputs": [],
   "source": []
  },
  {
   "cell_type": "code",
   "execution_count": null,
   "id": "b0a74c44-cf4a-4664-87b9-38315195ee96",
   "metadata": {},
   "outputs": [],
   "source": []
  },
  {
   "cell_type": "code",
   "execution_count": null,
   "id": "e9db5007-f17e-478c-91a6-f102666399d2",
   "metadata": {},
   "outputs": [],
   "source": []
  }
 ],
 "metadata": {
  "kernelspec": {
   "display_name": "Python 3 (ipykernel)",
   "language": "python",
   "name": "python3"
  },
  "language_info": {
   "codemirror_mode": {
    "name": "ipython",
    "version": 3
   },
   "file_extension": ".py",
   "mimetype": "text/x-python",
   "name": "python",
   "nbconvert_exporter": "python",
   "pygments_lexer": "ipython3",
   "version": "3.11.7"
  }
 },
 "nbformat": 4,
 "nbformat_minor": 5
}
