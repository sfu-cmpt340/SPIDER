{
  "nbformat": 4,
  "nbformat_minor": 0,
  "metadata": {
    "colab": {
      "provenance": [],
      "gpuType": "T4"
    },
    "kernelspec": {
      "name": "python3",
      "display_name": "Python 3"
    },
    "language_info": {
      "name": "python"
    },
    "accelerator": "GPU"
  },
  "cells": [
    {
      "cell_type": "code",
      "execution_count": null,
      "metadata": {
        "id": "zsuFTSETTSBJ"
      },
      "outputs": [],
      "source": [
        "from sklearn import svm\n",
        "import pandas as pd\n",
        "import numpy as np\n",
        "import matplotlib.pyplot as plt\n",
        "from sklearn.metrics import balanced_accuracy_score, classification_report, precision_score, recall_score, f1_score\n",
        "\n",
        "import zipfile\n",
        "import os\n",
        "from PIL import Image\n",
        "\n",
        "from sklearn.preprocessing import LabelEncoder\n",
        "from sklearn.decomposition import PCA\n",
        "from sklearn.preprocessing import StandardScaler\n",
        "from sklearn import svm\n",
        "from sklearn.utils import shuffle, class_weight\n",
        "from sklearn.model_selection import train_test_split, cross_val_score, KFold\n",
        "from sklearn.metrics import accuracy_score, confusion_matrix, ConfusionMatrixDisplay\n",
        "from sklearn.neural_network import MLPClassifier\n",
        "\n",
        "from imblearn.over_sampling import SMOTE\n",
        "\n",
        "import tensorflow as tf\n",
        "from tensorflow.keras import datasets, layers, models\n",
        "from tensorflow.keras.models import Sequential\n",
        "from tensorflow.keras.layers import Dense, BatchNormalization, Dropout\n",
        "from tensorflow.keras.optimizers import Adam\n",
        "from tensorflow.keras.optimizers import SGD\n",
        "from tensorflow.keras.regularizers import l2\n",
        "from tensorflow.keras.preprocessing.image import load_img, img_to_array"
      ]
    },
    {
      "cell_type": "code",
      "source": [
        "# unzip spectrogram data\n",
        "os.system(\"7z x spectrogram.7z\")"
      ],
      "metadata": {
        "colab": {
          "base_uri": "https://localhost:8080/"
        },
        "id": "9qwGIbjXuhi9",
        "outputId": "ba5adf5e-c6b4-4dad-f721-8b86564e037b"
      },
      "execution_count": null,
      "outputs": [
        {
          "output_type": "execute_result",
          "data": {
            "text/plain": [
              "34304"
            ]
          },
          "metadata": {},
          "execution_count": 2
        }
      ]
    },
    {
      "cell_type": "code",
      "source": [
        "# force reset CUDA GPU cache\n",
        "!pip install numba\n",
        "\n",
        "from numba import cuda\n",
        "device = cuda.get_current_device()\n",
        "device.reset()"
      ],
      "metadata": {
        "id": "YTMj1wQv9QWQ"
      },
      "execution_count": null,
      "outputs": []
    },
    {
      "cell_type": "code",
      "source": [
        "# regenerate train and test set, takes some time\n",
        "labels_df = pd.read_csv('outcomes.csv')\n",
        "filenames = labels_df[\"filename\"]\n",
        "labels = labels_df[\"Apgar1\"]\n",
        "images = []\n",
        "for filename in filenames:\n",
        "    try:\n",
        "        path = os.path.join(os.getcwd(), 'spectrogram', filename)\n",
        "        img = tf.keras.preprocessing.image.load_img(path, target_size=(312, 312))\n",
        "        img_array = tf.keras.preprocessing.image.img_to_array(img)\n",
        "        images.append(img_array)\n",
        "    except Exception as e:\n",
        "        print(f\"Error loading image {filename}: {e}\")\n",
        "\n",
        "train_images, test_images, train_labels, test_labels = train_test_split(\n",
        "    images, labels, test_size=0.25, random_state=42)\n",
        "\n",
        "train_images = tf.convert_to_tensor(train_images)\n",
        "test_images = tf.convert_to_tensor(test_images)\n",
        "\n",
        "train_images = tf.convert_to_tensor(train_images)\n",
        "test_images = tf.convert_to_tensor(test_images)\n",
        "\n",
        "np.save('train_images.npy', train_images)\n",
        "np.save('test_images.npy', test_images)\n",
        "np.save('train_labels.npy', train_labels)\n",
        "np.save('test_labels.npy', test_labels)"
      ],
      "metadata": {
        "id": "YcBsyjSS7TlM"
      },
      "execution_count": null,
      "outputs": []
    },
    {
      "cell_type": "code",
      "source": [
        "# use pregenerated sets instead\n",
        "train_images = np.load('train_images.npy')\n",
        "test_images = np.load('test_images.npy')\n",
        "train_images = np.load('train_images.npy')\n",
        "test_images = np.load('test_images.npy')"
      ],
      "metadata": {
        "id": "qZF9ih2cAEWR"
      },
      "execution_count": null,
      "outputs": []
    },
    {
      "cell_type": "code",
      "source": [
        "# CNN\n",
        "model = Sequential([\n",
        "    layers.Conv2D(96, (3, 3), activation='relu', input_shape=(312, 312, 3)),\n",
        "    layers.BatchNormalization(),\n",
        "    layers.MaxPooling2D(pool_size=(3, 3), strides=(2, 2)),\n",
        "\n",
        "    layers.Conv2D(128, (3, 3), activation='relu'),\n",
        "    layers.BatchNormalization(),\n",
        "    layers.MaxPooling2D(pool_size=(3, 3), strides=(2, 2)),\n",
        "\n",
        "    layers.Conv2D(384, (3, 3), activation='relu'),\n",
        "    layers.Conv2D(384, (3, 3), activation='relu'),\n",
        "    layers.Conv2D(384, (3, 3), activation='relu'),\n",
        "\n",
        "    layers.GlobalAveragePooling2D(),\n",
        "\n",
        "    layers.Dense(4096, activation='relu', kernel_regularizer=l2(0.001)),\n",
        "    layers.Dropout(0.8),\n",
        "\n",
        "    layers.Dense(4096, activation='relu', kernel_regularizer=l2(0.001)),\n",
        "    layers.Dropout(0.8),\n",
        "\n",
        "    layers.Dense(3, activation='softmax')\n",
        "])\n",
        "\n",
        "model.compile(optimizer='adam',\n",
        "              loss=tf.keras.losses.SparseCategoricalCrossentropy(),\n",
        "              metrics=['accuracy'])\n",
        "\n",
        "history = model.fit(train_images, train_labels, epochs=10, batch_size=64, validation_split=0.25, verbose=1)\n",
        "\n",
        "plt.plot(history.history['loss'], label='train Loss')\n",
        "plt.plot(history.history['val_loss'], label='test Loss')\n",
        "plt.legend()\n",
        "plt.show()\n",
        "\n",
        "test_loss, test_acc = model.evaluate(test_images, test_labels, verbose=2)"
      ],
      "metadata": {
        "colab": {
          "base_uri": "https://localhost:8080/",
          "height": 1000
        },
        "id": "MDYEn8Js8EYL",
        "outputId": "9705d256-99e4-4d52-fc91-9e3930606d5e"
      },
      "execution_count": null,
      "outputs": [
        {
          "output_type": "stream",
          "name": "stdout",
          "text": [
            "Epoch 1/20\n",
            "5/5 [==============================] - 137s 18s/step - loss: 7.0436 - accuracy: 0.5290 - val_loss: 4.7324 - val_accuracy: 0.7019\n",
            "Epoch 2/20\n",
            "5/5 [==============================] - 8s 2s/step - loss: 4.2702 - accuracy: 0.5903 - val_loss: 3.8971 - val_accuracy: 0.7019\n",
            "Epoch 3/20\n",
            "5/5 [==============================] - 7s 1s/step - loss: 3.6510 - accuracy: 0.6129 - val_loss: 3.6246 - val_accuracy: 0.7019\n",
            "Epoch 4/20\n",
            "5/5 [==============================] - 7s 1s/step - loss: 3.2685 - accuracy: 0.6323 - val_loss: 3.2389 - val_accuracy: 0.7019\n",
            "Epoch 5/20\n",
            "5/5 [==============================] - 8s 2s/step - loss: 2.9821 - accuracy: 0.6290 - val_loss: 2.6861 - val_accuracy: 0.7019\n",
            "Epoch 6/20\n",
            "5/5 [==============================] - 8s 2s/step - loss: 2.7609 - accuracy: 0.6323 - val_loss: 2.5364 - val_accuracy: 0.7019\n",
            "Epoch 7/20\n",
            "5/5 [==============================] - 7s 1s/step - loss: 2.6035 - accuracy: 0.6323 - val_loss: 2.4194 - val_accuracy: 0.7019\n",
            "Epoch 8/20\n",
            "5/5 [==============================] - 8s 2s/step - loss: 2.4817 - accuracy: 0.6323 - val_loss: 2.3114 - val_accuracy: 0.7019\n",
            "Epoch 9/20\n",
            "5/5 [==============================] - 8s 2s/step - loss: 2.3843 - accuracy: 0.6226 - val_loss: 2.2418 - val_accuracy: 0.7019\n",
            "Epoch 10/20\n",
            "5/5 [==============================] - 7s 1s/step - loss: 2.2735 - accuracy: 0.6258 - val_loss: 2.2234 - val_accuracy: 0.7019\n",
            "Epoch 11/20\n",
            "5/5 [==============================] - 7s 1s/step - loss: 2.1604 - accuracy: 0.6323 - val_loss: 2.0859 - val_accuracy: 0.7019\n",
            "Epoch 12/20\n",
            "5/5 [==============================] - 8s 2s/step - loss: 2.0911 - accuracy: 0.6290 - val_loss: 2.0292 - val_accuracy: 0.7019\n",
            "Epoch 13/20\n",
            "5/5 [==============================] - 8s 2s/step - loss: 2.0170 - accuracy: 0.6194 - val_loss: 1.9209 - val_accuracy: 0.7019\n",
            "Epoch 14/20\n",
            "5/5 [==============================] - 8s 2s/step - loss: 1.9412 - accuracy: 0.6355 - val_loss: 1.8010 - val_accuracy: 0.7019\n",
            "Epoch 15/20\n",
            "5/5 [==============================] - 8s 2s/step - loss: 1.8696 - accuracy: 0.6323 - val_loss: 1.7668 - val_accuracy: 0.7019\n",
            "Epoch 16/20\n",
            "5/5 [==============================] - 8s 2s/step - loss: 1.8142 - accuracy: 0.6290 - val_loss: 1.7009 - val_accuracy: 0.7019\n",
            "Epoch 17/20\n",
            "5/5 [==============================] - 7s 1s/step - loss: 1.7731 - accuracy: 0.6323 - val_loss: 1.6862 - val_accuracy: 0.7019\n",
            "Epoch 18/20\n",
            "5/5 [==============================] - 8s 2s/step - loss: 1.7221 - accuracy: 0.6355 - val_loss: 1.6941 - val_accuracy: 0.7019\n",
            "Epoch 19/20\n",
            "5/5 [==============================] - 8s 2s/step - loss: 1.7071 - accuracy: 0.6419 - val_loss: 1.6296 - val_accuracy: 0.7019\n",
            "Epoch 20/20\n",
            "5/5 [==============================] - 8s 2s/step - loss: 1.6278 - accuracy: 0.6419 - val_loss: 1.5394 - val_accuracy: 0.7019\n"
          ]
        },
        {
          "output_type": "display_data",
          "data": {
            "text/plain": [
              "<Figure size 640x480 with 1 Axes>"
            ],
            "image/png": "[encoded data removed]"
          },
          "metadata": {}
        },
        {
          "output_type": "stream",
          "name": "stdout",
          "text": [
            "5/5 - 12s - loss: 1.7578 - accuracy: 0.5435 - 12s/epoch - 2s/step\n"
          ]
        }
      ]
    }
  ]
}