{
 "cells": [
  {
   "cell_type": "code",
   "execution_count": 1,
   "id": "1789b600",
   "metadata": {
    "colab": {
     "base_uri": "https://localhost:8080/"
    },
    "id": "1789b600",
    "outputId": "42d01158-691f-44ea-bc82-1ecf59f5d9ba"
   },
   "outputs": [
    {
     "name": "stdout",
     "output_type": "stream",
     "text": [
      "Requirement already satisfied: wfdb in c:\\users\\mitchell\\anaconda3\\lib\\site-packages (4.1.2)\n",
      "Requirement already satisfied: scipy>=1.0.0 in c:\\users\\mitchell\\anaconda3\\lib\\site-packages (from wfdb) (1.7.1)\n",
      "Requirement already satisfied: matplotlib>=3.2.2 in c:\\users\\mitchell\\anaconda3\\lib\\site-packages (from wfdb) (3.4.3)\n",
      "Requirement already satisfied: numpy>=1.10.1 in c:\\users\\mitchell\\anaconda3\\lib\\site-packages (from wfdb) (1.22.4)\n",
      "Requirement already satisfied: pandas>=1.3.0 in c:\\users\\mitchell\\anaconda3\\lib\\site-packages (from wfdb) (1.3.4)\n",
      "Requirement already satisfied: SoundFile>=0.10.0 in c:\\users\\mitchell\\anaconda3\\lib\\site-packages (from wfdb) (0.12.1)\n",
      "Requirement already satisfied: requests>=2.8.1 in c:\\users\\mitchell\\anaconda3\\lib\\site-packages (from wfdb) (2.26.0)\n",
      "Requirement already satisfied: cycler>=0.10 in c:\\users\\mitchell\\anaconda3\\lib\\site-packages (from matplotlib>=3.2.2->wfdb) (0.10.0)\n",
      "Requirement already satisfied: kiwisolver>=1.0.1 in c:\\users\\mitchell\\anaconda3\\lib\\site-packages (from matplotlib>=3.2.2->wfdb) (1.3.1)\n",
      "Requirement already satisfied: pillow>=6.2.0 in c:\\users\\mitchell\\anaconda3\\lib\\site-packages (from matplotlib>=3.2.2->wfdb) (8.4.0)\n",
      "Requirement already satisfied: python-dateutil>=2.7 in c:\\users\\mitchell\\anaconda3\\lib\\site-packages (from matplotlib>=3.2.2->wfdb) (2.8.2)\n",
      "Requirement already satisfied: pyparsing>=2.2.1 in c:\\users\\mitchell\\anaconda3\\lib\\site-packages (from matplotlib>=3.2.2->wfdb) (3.0.4)\n",
      "Requirement already satisfied: six in c:\\users\\mitchell\\anaconda3\\lib\\site-packages (from cycler>=0.10->matplotlib>=3.2.2->wfdb) (1.16.0)\n",
      "Requirement already satisfied: pytz>=2017.3 in c:\\users\\mitchell\\anaconda3\\lib\\site-packages (from pandas>=1.3.0->wfdb) (2021.3)\n",
      "Requirement already satisfied: charset-normalizer~=2.0.0 in c:\\users\\mitchell\\anaconda3\\lib\\site-packages (from requests>=2.8.1->wfdb) (2.0.4)\n",
      "Requirement already satisfied: idna<4,>=2.5 in c:\\users\\mitchell\\anaconda3\\lib\\site-packages (from requests>=2.8.1->wfdb) (3.2)\n",
      "Requirement already satisfied: certifi>=2017.4.17 in c:\\users\\mitchell\\anaconda3\\lib\\site-packages (from requests>=2.8.1->wfdb) (2021.10.8)\n",
      "Requirement already satisfied: urllib3<1.27,>=1.21.1 in c:\\users\\mitchell\\anaconda3\\lib\\site-packages (from requests>=2.8.1->wfdb) (1.26.7)\n",
      "Requirement already satisfied: cffi>=1.0 in c:\\users\\mitchell\\anaconda3\\lib\\site-packages (from SoundFile>=0.10.0->wfdb) (1.14.6)\n",
      "Requirement already satisfied: pycparser in c:\\users\\mitchell\\anaconda3\\lib\\site-packages (from cffi>=1.0->SoundFile>=0.10.0->wfdb) (2.20)\n",
      "Note: you may need to restart the kernel to use updated packages.\n"
     ]
    }
   ],
   "source": [
    "pip install wfdb"
   ]
  },
  {
   "cell_type": "code",
   "execution_count": null,
   "id": "2f40d9df",
   "metadata": {
    "id": "2f40d9df"
   },
   "outputs": [],
   "source": []
  },
  {
   "cell_type": "code",
   "execution_count": 2,
   "id": "f71cab34",
   "metadata": {
    "colab": {
     "base_uri": "https://localhost:8080/"
    },
    "id": "f71cab34",
    "outputId": "b997a22f-c691-4458-e4a3-16eb1c27ffb8"
   },
   "outputs": [
    {
     "name": "stderr",
     "output_type": "stream",
     "text": [
      "Cloning into 'headat-signals'...\n"
     ]
    }
   ],
   "source": [
    "!git clone https://github.com/lcsrodriguez/headat-signals"
   ]
  },
  {
   "cell_type": "code",
   "execution_count": 1,
   "id": "d205c784",
   "metadata": {
    "colab": {
     "base_uri": "https://localhost:8080/"
    },
    "id": "d205c784",
    "outputId": "ecb25ad1-565a-4c82-86e3-879873b124e9",
    "scrolled": false
   },
   "outputs": [
    {
     "name": "stdout",
     "output_type": "stream",
     "text": [
      "Requirement already satisfied: openpyxl in c:\\users\\mitchell\\anaconda3\\lib\\site-packages (from -r headat-signals/requirements.txt (line 1)) (3.0.9)\n",
      "Collecting pyarrow\n",
      "  Using cached pyarrow-15.0.2-cp39-cp39-win_amd64.whl (24.9 MB)\n",
      "Collecting tabulate\n",
      "  Using cached tabulate-0.9.0-py3-none-any.whl (35 kB)\n",
      "Collecting fastparquet\n",
      "  Using cached fastparquet-2024.2.0-cp39-cp39-win_amd64.whl (670 kB)\n",
      "Requirement already satisfied: SQLAlchemy in c:\\users\\mitchell\\anaconda3\\lib\\site-packages (from -r headat-signals/requirements.txt (line 5)) (1.4.22)\n",
      "Collecting pyspark\n",
      "  Using cached pyspark-3.5.1-py2.py3-none-any.whl\n",
      "Requirement already satisfied: pandas in c:\\users\\mitchell\\anaconda3\\lib\\site-packages (from -r headat-signals/requirements.txt (line 7)) (2.2.1)\n",
      "Requirement already satisfied: numpy in c:\\users\\mitchell\\anaconda3\\lib\\site-packages (from -r headat-signals/requirements.txt (line 8)) (1.22.4)\n",
      "Requirement already satisfied: scipy in c:\\users\\mitchell\\anaconda3\\lib\\site-packages (from -r headat-signals/requirements.txt (line 9)) (1.7.1)\n",
      "Requirement already satisfied: tables in c:\\users\\mitchell\\anaconda3\\lib\\site-packages (from -r headat-signals/requirements.txt (line 11)) (3.6.1)\n",
      "Collecting validators\n",
      "  Using cached validators-0.24.0-py3-none-any.whl (27 kB)\n",
      "Requirement already satisfied: pycurl in c:\\users\\mitchell\\anaconda3\\lib\\site-packages (from -r headat-signals/requirements.txt (line 13)) (7.44.1)\n",
      "Collecting bs4\n",
      "  Using cached bs4-0.0.2-py2.py3-none-any.whl (1.2 kB)\n",
      "Requirement already satisfied: wget in c:\\users\\mitchell\\anaconda3\\lib\\site-packages (from -r headat-signals/requirements.txt (line 15)) (3.2)\n",
      "Requirement already satisfied: tqdm in c:\\users\\mitchell\\anaconda3\\lib\\site-packages (from -r headat-signals/requirements.txt (line 16)) (4.62.3)\n",
      "Requirement already satisfied: wfdb in c:\\users\\mitchell\\anaconda3\\lib\\site-packages (from -r headat-signals/requirements.txt (line 17)) (4.1.2)\n",
      "Requirement already satisfied: et-xmlfile in c:\\users\\mitchell\\anaconda3\\lib\\site-packages (from openpyxl->-r headat-signals/requirements.txt (line 1)) (1.1.0)\n",
      "Collecting cramjam>=2.3\n",
      "  Using cached cramjam-2.8.3-cp39-none-win_amd64.whl (1.6 MB)\n",
      "Requirement already satisfied: packaging in c:\\users\\mitchell\\anaconda3\\lib\\site-packages (from fastparquet->-r headat-signals/requirements.txt (line 4)) (21.0)\n",
      "Requirement already satisfied: fsspec in c:\\users\\mitchell\\anaconda3\\lib\\site-packages (from fastparquet->-r headat-signals/requirements.txt (line 4)) (2021.10.1)\n",
      "Requirement already satisfied: greenlet!=0.4.17 in c:\\users\\mitchell\\anaconda3\\lib\\site-packages (from SQLAlchemy->-r headat-signals/requirements.txt (line 5)) (1.1.1)\n",
      "Requirement already satisfied: py4j==0.10.9.7 in c:\\users\\mitchell\\anaconda3\\lib\\site-packages (from pyspark->-r headat-signals/requirements.txt (line 6)) (0.10.9.7)\n",
      "Requirement already satisfied: tzdata>=2022.7 in c:\\users\\mitchell\\anaconda3\\lib\\site-packages (from pandas->-r headat-signals/requirements.txt (line 7)) (2024.1)\n",
      "Requirement already satisfied: pytz>=2020.1 in c:\\users\\mitchell\\anaconda3\\lib\\site-packages (from pandas->-r headat-signals/requirements.txt (line 7)) (2021.3)\n",
      "Requirement already satisfied: python-dateutil>=2.8.2 in c:\\users\\mitchell\\anaconda3\\lib\\site-packages (from pandas->-r headat-signals/requirements.txt (line 7)) (2.8.2)\n",
      "Requirement already satisfied: numexpr>=2.6.2 in c:\\users\\mitchell\\anaconda3\\lib\\site-packages (from tables->-r headat-signals/requirements.txt (line 11)) (2.7.3)\n",
      "Requirement already satisfied: beautifulsoup4 in c:\\users\\mitchell\\anaconda3\\lib\\site-packages (from bs4->-r headat-signals/requirements.txt (line 14)) (4.10.0)\n",
      "Requirement already satisfied: colorama in c:\\users\\mitchell\\anaconda3\\lib\\site-packages (from tqdm->-r headat-signals/requirements.txt (line 16)) (0.4.4)\n",
      "Requirement already satisfied: requests>=2.8.1 in c:\\users\\mitchell\\anaconda3\\lib\\site-packages (from wfdb->-r headat-signals/requirements.txt (line 17)) (2.26.0)\n",
      "Requirement already satisfied: matplotlib>=3.2.2 in c:\\users\\mitchell\\anaconda3\\lib\\site-packages (from wfdb->-r headat-signals/requirements.txt (line 17)) (3.4.3)\n",
      "Requirement already satisfied: SoundFile>=0.10.0 in c:\\users\\mitchell\\anaconda3\\lib\\site-packages (from wfdb->-r headat-signals/requirements.txt (line 17)) (0.12.1)\n",
      "Requirement already satisfied: pillow>=6.2.0 in c:\\users\\mitchell\\anaconda3\\lib\\site-packages (from matplotlib>=3.2.2->wfdb->-r headat-signals/requirements.txt (line 17)) (8.4.0)\n",
      "Requirement already satisfied: kiwisolver>=1.0.1 in c:\\users\\mitchell\\anaconda3\\lib\\site-packages (from matplotlib>=3.2.2->wfdb->-r headat-signals/requirements.txt (line 17)) (1.3.1)\n",
      "Requirement already satisfied: cycler>=0.10 in c:\\users\\mitchell\\anaconda3\\lib\\site-packages (from matplotlib>=3.2.2->wfdb->-r headat-signals/requirements.txt (line 17)) (0.10.0)\n",
      "Requirement already satisfied: pyparsing>=2.2.1 in c:\\users\\mitchell\\anaconda3\\lib\\site-packages (from matplotlib>=3.2.2->wfdb->-r headat-signals/requirements.txt (line 17)) (3.0.4)\n",
      "Requirement already satisfied: six in c:\\users\\mitchell\\anaconda3\\lib\\site-packages (from cycler>=0.10->matplotlib>=3.2.2->wfdb->-r headat-signals/requirements.txt (line 17)) (1.16.0)\n",
      "Requirement already satisfied: urllib3<1.27,>=1.21.1 in c:\\users\\mitchell\\anaconda3\\lib\\site-packages (from requests>=2.8.1->wfdb->-r headat-signals/requirements.txt (line 17)) (1.26.7)\n",
      "Requirement already satisfied: certifi>=2017.4.17 in c:\\users\\mitchell\\anaconda3\\lib\\site-packages (from requests>=2.8.1->wfdb->-r headat-signals/requirements.txt (line 17)) (2021.10.8)\n",
      "Requirement already satisfied: charset-normalizer~=2.0.0 in c:\\users\\mitchell\\anaconda3\\lib\\site-packages (from requests>=2.8.1->wfdb->-r headat-signals/requirements.txt (line 17)) (2.0.4)\n",
      "Requirement already satisfied: idna<4,>=2.5 in c:\\users\\mitchell\\anaconda3\\lib\\site-packages (from requests>=2.8.1->wfdb->-r headat-signals/requirements.txt (line 17)) (3.2)\n",
      "Requirement already satisfied: cffi>=1.0 in c:\\users\\mitchell\\anaconda3\\lib\\site-packages (from SoundFile>=0.10.0->wfdb->-r headat-signals/requirements.txt (line 17)) (1.14.6)\n",
      "Requirement already satisfied: pycparser in c:\\users\\mitchell\\anaconda3\\lib\\site-packages (from cffi>=1.0->SoundFile>=0.10.0->wfdb->-r headat-signals/requirements.txt (line 17)) (2.20)\n",
      "Requirement already satisfied: soupsieve>1.2 in c:\\users\\mitchell\\anaconda3\\lib\\site-packages (from beautifulsoup4->bs4->-r headat-signals/requirements.txt (line 14)) (2.2.1)\n",
      "Installing collected packages: cramjam, validators, tabulate, pyspark, pyarrow, fastparquet, bs4\n",
      "Successfully installed bs4-0.0.2 cramjam-2.8.3 fastparquet-2024.2.0 pyarrow-15.0.2 pyspark-3.5.1 tabulate-0.9.0 validators-0.24.0\n"
     ]
    }
   ],
   "source": [
    "!pip install -r headat-signals/requirements.txt"
   ]
  },
  {
   "cell_type": "code",
   "execution_count": 6,
   "id": "456aaeb3",
   "metadata": {
    "id": "456aaeb3"
   },
   "outputs": [],
   "source": [
    "import wfdb\n",
    "import urllib\n",
    "import pandas\n",
    "import sys\n",
    "sys.path.append('headat-signals\\headat')\n",
    "from main import HDView\n"
   ]
  },
  {
   "cell_type": "code",
   "execution_count": 7,
   "id": "fbee9426",
   "metadata": {
    "colab": {
     "base_uri": "https://localhost:8080/",
     "height": 339
    },
    "id": "fbee9426",
    "outputId": "34e3f63c-7bc7-45db-9a50-ffc69aef8142"
   },
   "outputs": [
    {
     "data": {
      "image/png": "[encoded data removed]",
      "text/plain": [
       "<Figure size 432x288 with 2 Axes>"
      ]
     },
     "metadata": {
      "needs_background": "light"
     },
     "output_type": "display_data"
    }
   ],
   "source": [
    "record = wfdb.rdrecord('CTU-CHB/dat/1001')\n",
    "\n",
    "# plot the record to screen\n",
    "wfdb.plot_wfdb(record=record, title='Example signals')"
   ]
  },
  {
   "cell_type": "code",
   "execution_count": 12,
   "id": "9f7b1b75",
   "metadata": {
    "id": "9f7b1b75",
    "outputId": "ec2e4d9a-e251-42b7-ee0e-ea1c25bb8c6b"
   },
   "outputs": [
    {
     "name": "stdout",
     "output_type": "stream",
     "text": [
      "sim_dur: 142.95411562919617\n",
      "Conversion to format : csv\n"
     ]
    },
    {
     "data": {
      "text/plain": [
       "True"
      ]
     },
     "execution_count": 12,
     "metadata": {},
     "output_type": "execute_result"
    }
   ],
   "source": [
    "a = HDView()\n",
    "v = HDView(\"CTU-CHB/dat/1001\")\n",
    "v.t_csv()"
   ]
  },
  {
   "cell_type": "code",
   "execution_count": null,
   "id": "cbcf38e8",
   "metadata": {
    "id": "cbcf38e8"
   },
   "outputs": [],
   "source": []
  }
 ],
 "metadata": {
  "colab": {
   "provenance": []
  },
  "kernelspec": {
   "display_name": "Python 3 (ipykernel)",
   "language": "python",
   "name": "python3"
  },
  "language_info": {
   "codemirror_mode": {
    "name": "ipython",
    "version": 3
   },
   "file_extension": ".py",
   "mimetype": "text/x-python",
   "name": "python",
   "nbconvert_exporter": "python",
   "pygments_lexer": "ipython3",
   "version": "3.9.7"
  }
 },
 "nbformat": 4,
 "nbformat_minor": 5
}
